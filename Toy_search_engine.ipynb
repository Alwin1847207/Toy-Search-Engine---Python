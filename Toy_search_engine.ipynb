{
  "nbformat": 4,
  "nbformat_minor": 0,
  "metadata": {
    "colab": {
      "name": "Toy_search_engine.ipynb",
      "provenance": [],
      "collapsed_sections": [],
      "include_colab_link": true
    },
    "kernelspec": {
      "name": "python3",
      "display_name": "Python 3"
    }
  },
  "cells": [
    {
      "cell_type": "markdown",
      "metadata": {
        "id": "view-in-github",
        "colab_type": "text"
      },
      "source": [
        "<a href=\"https://colab.research.google.com/github/Alwin1847207/Toy-Search-Engine---Python/blob/master/Toy_search_engine.ipynb\" target=\"_parent\"><img src=\"https://colab.research.google.com/assets/colab-badge.svg\" alt=\"Open In Colab\"/></a>"
      ]
    },
    {
      "cell_type": "markdown",
      "metadata": {
        "id": "b7oDnLWg1AHE",
        "colab_type": "text"
      },
      "source": [
        "# Please create a **toy search engine using Python**. Use 20newsgroups dataset available at http://qwone.com/~jason/20Newsgroups. \n",
        "\n",
        "Required feature: For a given string, search results should return the top 3 most relevant documents. It should also highlight the part of the document where the search string occurs. Use your imagination to modify and add more advanced functionalities."
      ]
    },
    {
      "cell_type": "code",
      "metadata": {
        "id": "-lNM7JkWd1wA",
        "colab_type": "code",
        "colab": {
          "base_uri": "https://localhost:8080/",
          "height": 219
        },
        "outputId": "42e1dfed-9900-46b9-f9ef-f43c706500fa"
      },
      "source": [
        "# Download the Data Set\n",
        "!wget --no-check-certificate http://qwone.com/~jason/20Newsgroups/20news-18828.tar.gz -O /tmp/20news-18828.tar.gz"
      ],
      "execution_count": 1,
      "outputs": [
        {
          "output_type": "stream",
          "text": [
            "--2020-08-21 15:53:24--  http://qwone.com/~jason/20Newsgroups/20news-18828.tar.gz\n",
            "Resolving qwone.com (qwone.com)... 108.20.201.166\n",
            "Connecting to qwone.com (qwone.com)|108.20.201.166|:80... connected.\n",
            "HTTP request sent, awaiting response... 200 OK\n",
            "Length: 14666916 (14M) [application/x-gzip]\n",
            "Saving to: ‘/tmp/20news-18828.tar.gz’\n",
            "\n",
            "/tmp/20news-18828.t 100%[===================>]  13.99M  6.46MB/s    in 2.2s    \n",
            "\n",
            "2020-08-21 15:53:26 (6.46 MB/s) - ‘/tmp/20news-18828.tar.gz’ saved [14666916/14666916]\n",
            "\n"
          ],
          "name": "stdout"
        }
      ]
    },
    {
      "cell_type": "code",
      "metadata": {
        "id": "Gwe6DvK7RB2T",
        "colab_type": "code",
        "colab": {}
      },
      "source": [
        "# Import Statemts\n",
        "import os\n",
        "import re\n",
        "import zipfile\n",
        "import tarfile"
      ],
      "execution_count": 2,
      "outputs": []
    },
    {
      "cell_type": "code",
      "metadata": {
        "id": "CIO69fRa12EC",
        "colab_type": "code",
        "colab": {}
      },
      "source": [
        "# Unziping the files to a directory\n",
        "local_zip = '/tmp/20news-18828.tar.gz'\n",
        "my_tar = tarfile.open( '/tmp/20news-18828.tar.gz')\n",
        "my_tar.extractall('./tmp')\n",
        "my_tar.close()"
      ],
      "execution_count": 3,
      "outputs": []
    },
    {
      "cell_type": "code",
      "metadata": {
        "id": "PlJy-ED418mO",
        "colab_type": "code",
        "colab": {}
      },
      "source": [
        "# Dictionary for string files inside a folder\n",
        "folders_files_dict = dict()\n",
        "#  Dictionary to store the file words count with respect to each file\n",
        "words_in_files = dict()"
      ],
      "execution_count": 4,
      "outputs": []
    },
    {
      "cell_type": "code",
      "metadata": {
        "id": "D8UlsChybKys",
        "colab_type": "code",
        "colab": {}
      },
      "source": [
        "# processing folders and collection the file names and adds to a dictionary\n",
        "folders = os.listdir(\"tmp/20news-18828/\")\n",
        "\n",
        "for folder in folders:\n",
        "    files = os.listdir(\"tmp/20news-18828/\"+folder)\n",
        "    folders_files_dict[folder] = files\n",
        "\n",
        "# to list folders and files in folders\n",
        "# for x in folders_files_dict:\n",
        "#     print(x)\n",
        "#     print(folders_files_dict[x])"
      ],
      "execution_count": 5,
      "outputs": []
    },
    {
      "cell_type": "code",
      "metadata": {
        "id": "RMYLNJg2REJO",
        "colab_type": "code",
        "colab": {}
      },
      "source": [
        "# extracting words from each file, calculating the count and adds to the dictionary\n",
        "for folder in folders:\n",
        "    files = os.listdir(\"tmp/20news-18828/\"+folder)\n",
        "    for file in files:\n",
        "        file_words = dict()\n",
        "        file_data = open(\"tmp/20news-18828/\"+folder+'/'+file,encoding=\"utf8\", errors='ignore').read()\n",
        "        file_date = file_data.strip()\n",
        "        file_data = file_data.lower()\n",
        "        file_data = re.findall(r'[a-z]+', file_data)\n",
        "        for word in file_data:\n",
        "            if word in file_words:\n",
        "                file_words[word] = file_words[word]+1\n",
        "            else:\n",
        "                file_words[word] = 1\n",
        "        words_in_files[file] = file_words\n",
        "        # print(file_words)\n",
        "\n",
        "# print(words_in_files)"
      ],
      "execution_count": 6,
      "outputs": []
    },
    {
      "cell_type": "code",
      "metadata": {
        "id": "OtGWcCitbGLt",
        "colab_type": "code",
        "colab": {
          "base_uri": "https://localhost:8080/",
          "height": 54
        },
        "outputId": "08778d56-84cf-47b1-d496-deaa1050aeeb"
      },
      "source": [
        "# To search words\n",
        "search_word = input(\"Enter the word to search : \")\n",
        "search_word = search_word.lower()\n",
        "search_word = search_word.strip()\n",
        "# search_word = \"from\"\n",
        "print(\"Word to Search : \" + search_word)"
      ],
      "execution_count": 7,
      "outputs": [
        {
          "output_type": "stream",
          "text": [
            "Enter the word to search : robert\n",
            "Word to Search : robert\n"
          ],
          "name": "stdout"
        }
      ]
    },
    {
      "cell_type": "code",
      "metadata": {
        "id": "fYqkpBikRGgb",
        "colab_type": "code",
        "colab": {
          "base_uri": "https://localhost:8080/",
          "height": 92
        },
        "outputId": "c9a201de-2377-42b3-f413-577ac6fd05f1"
      },
      "source": [
        "# Search engine\n",
        "top_results = ['-1','','','-1','','','-1','','']\n",
        "\n",
        "for file in words_in_files:\n",
        "    # checking the word in the ist of word in the files\n",
        "    if search_word in words_in_files[str(file)]:\n",
        "        # print(\"Search item : '\" + search_word + \"' found in file: '\" +str(file) + \"' And occurs : \", words_in_files[str(file)][search_word])\n",
        "\n",
        "        # printing the path of the file\n",
        "        path = \"\"\n",
        "        for folder in folders_files_dict:\n",
        "            if file in folders_files_dict[folder]:\n",
        "                path = \"tmp/20news-18828/\" + folder + '/' + str(file)\n",
        "\n",
        "        count = words_in_files[str(file)][search_word]\n",
        "\n",
        "        if int(top_results[0]) < count:\n",
        "            top_results[0] = str(count)\n",
        "            top_results[1] = str(file)\n",
        "            top_results[2] = str(path)\n",
        "        elif int(top_results[3]) < int(count):\n",
        "            top_results[3] = str(count)\n",
        "            top_results[4] = str(file)\n",
        "            top_results[5] = str(path)\n",
        "        elif int(top_results[6]) < int(count):\n",
        "            top_results[6] = str(count)\n",
        "            top_results[7] = str(file)\n",
        "            top_results[8] = str(path)\n",
        "        else:\n",
        "            pass\n",
        "\n",
        "print(\"Word to Search : \" + search_word)\n",
        "print(\"Count : FileName : Path\")\n",
        "print(top_results)"
      ],
      "execution_count": 8,
      "outputs": [
        {
          "output_type": "stream",
          "text": [
            "Word to Search : robert\n",
            "Count : FileName : Path\n",
            "['8', '59548', 'tmp/20news-18828/sci.med/59548', '7', '59021', 'tmp/20news-18828/sci.med/59021', '6', '83629', 'tmp/20news-18828/talk.religion.misc/83629']\n"
          ],
          "name": "stdout"
        }
      ]
    },
    {
      "cell_type": "code",
      "metadata": {
        "id": "g8BEh_u8cDUY",
        "colab_type": "code",
        "colab": {
          "base_uri": "https://localhost:8080/",
          "height": 1000
        },
        "outputId": "c3a0b005-a566-413c-f38c-aef177552959"
      },
      "source": [
        "import re\n",
        "print(\"Search Word :\" + search_word)\n",
        "print(\"First Result in the File : \"+ top_results[2])\n",
        "data = open(top_results[2],encoding=\"utf8\", errors='ignore').read()\n",
        "search_word_captilize = search_word.upper()\n",
        "highlight_search_word =  '\\x1b[1;31m' + search_word_captilize + '\\x1b[0m'\n",
        "highlight_word = re.compile(re.escape(search_word),re.IGNORECASE)\n",
        "data = highlight_word.sub(highlight_search_word,data)\n",
        "print(data)"
      ],
      "execution_count": 32,
      "outputs": [
        {
          "output_type": "stream",
          "text": [
            "Search Word :robert\n",
            "First Result in the File : tmp/20news-18828/sci.med/59548\n",
            "From: banschbach@vms.ocom.okstate.edu\n",
            "Subject: RE: \u001b[1;31mROBERT\u001b[0m's Biological Alchemy\n",
            "\n",
            "\u001b[1;31mROBERT\u001b[0m,\n",
            "\n",
            "I'm *so* glad that you posted your Biological Alchemy discussion.  I've \n",
            "been compared to the famous \u001b[1;31mROBERT\u001b[0m McElwaine by some readers of Sci. Med.\n",
            "I didn't know how to respond since I had not seen one of your posts(just \n",
            "like I haven't read \"The Yeast Connection\").\n",
            "\n",
            "Let me just start by stating that the authors of the \"Cold Fusion\" papers of \n",
            "recent years are now in scientific exile(I believe that one has actually \n",
            "left the country).  Scientific fraud is rare.  I'm still not sure that if a \n",
            "review of the research notes of the \"cold fusion scientists\" actually \n",
            "proved fraud or just very shoddy experimentation.\n",
            "\n",
            "Your sources do not seem to be research articles.  They are more like lay \n",
            "texts designed to pique human interest in a subject area(just like the food \n",
            "combining and life extension texts).  \u001b[1;31mROBERT\u001b[0m, I try to keep an open mind.\n",
            "But some things I just can't buy(one is taking SOD orally to prevent \n",
            "oxidative damage in the body).\n",
            "\n",
            "Your experiment, if conducted by readers of this news group, would prove \n",
            "that you are right(more ash after seed sprouting than before).  Unless you \n",
            "use a muffle furnance and obtain a very high temperature(above 600 degrees \n",
            "I believe), you will get organic residue in the ash.  Even the residue in \n",
            "commercial incinerators contains organic residue.  I remember doing this \n",
            "kind of experiment in my organic chemistry couurse in College but I \n",
            "couldn't find a temperature for mineral ash formation so I'm really \n",
            "guessing at 600 degrees F, it may actually be much higher.  The point is \n",
            "that no one in their home could ever get a high enough temperature to \n",
            "produce *only* a mineral ash.  They also could not measure the minerals so \n",
            "they could only weigh the ash and find out that you appear to be correct. \n",
            "\n",
            "Chemical reactions abound in our body, in our atmosphere, in our water and \n",
            "in our soil.  Are these fusion reactions?  Yes many of them do involve \n",
            "fusing oxygen, nitrogen and sulfur to both organics and inorganics.  Do we \n",
            "really have the transformation of silicone to calcium if carbon is fused with \n",
            "silicon?  Not in my book \u001b[1;31mROBERT\u001b[0m.\n",
            "\n",
            "Silicon is the most abundant mineral on our planet.  I've seen speculation \n",
            "that man could have evolved to be a silicon based rather than a carbon \n",
            "based life-form.  I like reading science fiction, as many people do.  But I \n",
            "know enough about biochemistry(and nutrition) to be able(in most cases) to \n",
            "separate the fiction from the fact.\n",
            "\n",
            "Silicon may be one of the trace elements that turns out to be essential in \n",
            "humans.  We have several grams of the stuff in our body.  What's it doing \n",
            "there?  Only the Lord knows right now.  But I will tell you what I do know \n",
            "about silicon and why, as you state, it helps bone healing(and it is not \n",
            "because silicon is transformed into calcium).\n",
            "\n",
            "Almost all of the silicon in the human body is found in the connective \n",
            "tissue(collagen and elastin).  There have been studies published which show \n",
            "that the very high silicon content in elastin may be an important protective \n",
            "factor against atherosclerosis(the higher the silicon content in elastin, \n",
            "the more resistant the elastin is to a an age-related loss of elasticity \n",
            "which may play a role in the increase in blood pressure that is often seen as \n",
            "part of the ageing process in humans).\n",
            "\n",
            "For bone fracture healing, the first step is a collagen matrix into which \n",
            "calcium and phosphate are pumped by osteoblasts.  A high level of silicon \n",
            "in the diet seems to speed up this matrix formation.  This first step in the \n",
            "bone healing process seems to be the hardest for some people to get going.\n",
            "Electriacl currents have been used in an attempt to get the matrix forming \n",
            "cells oriented in the right direction so that the matrix can be formed in \n",
            "the gap(or gaps) between the ends of the broken bone.  A vitamin C deficiency\n",
            "(by slowing collagen formation as well as causing the prodcution of \n",
            "defective collagen) does slow down both bone and wound healing.  Zinc is also \n",
            "another big player in bone and wound healing.  And so is silicon(in an  \n",
            "undetermined role that most likely involes matrix formation and not \n",
            "transformation of silicon to calcium).  For you to take this bone healing \n",
            "observation and use it as proof that silicon is transformed into \n",
            "calcium is an interesting little trick.\n",
            "\n",
            "But \u001b[1;31mROBERT\u001b[0m, I have the same problem myself when I read the lay press(and \n",
            "yes even some scientific papers).  Is the explanation reasonable?  Without \n",
            "a very good science knowledge base, you and most readers of this news group \n",
            "are flying blind(you have to take it on faith because you don't know any \n",
            "better).\n",
            "\n",
            "If the explanation seems to make sense to me based on my knowledge base, \n",
            "I'm inclined to consider it(this usually means trying to find other sources \n",
            "that come to the same conclusion).  If the idea(like a candida bloom) seems \n",
            "to make sense to me, I tend to pursue it as long as any advice that I'm \n",
            "going to give isn't going to really mess somebody up.  If this makes us \n",
            "kindred souls \u001b[1;31mROBERT\u001b[0m, then I guess I'll have to live with that label.\n",
            "\n",
            "For the physicians who have decided to read my response to \u001b[1;31mROBERT\u001b[0m's \n",
            "interesting post, I hope that you saw the segment on the pediatric \n",
            "neurosurgeon last night on U.S. TV.  I can't remember the network or his \n",
            "name(like many nights, I was on my computer and my wife was watching TV in \n",
            "our Den where I have my computer setup).  This neurosurgeon takes kids with \n",
            "brain tumors that everyone else has given up on and he uses\"unconventional\"\n",
            "treatments(his own words).  He says that he has a 70% success rate.  The one \n",
            "case that I heard him discussing would normally use radiation(conventional \n",
            "treatment).  He was going to go in and cut.  You guys complain about the \n",
            "cost of the anti-fungals.  What do you think the cost difference between \n",
            "radiation treatment and surgery is guys? \n",
            "\n",
            "I'm going to ask you guys one more time, why blast a physician who takes the \n",
            "chronic sinus sufferer(like Jon) and the chronic GI sufferer(like Elaine)\n",
            "and tries to help them using unconventional treatments?  Treatments which \n",
            "do not result in death(like those that the neurosurgeon uses?).  Is it \n",
            "because candida blooms are not life-threatening while brain tumors are?\n",
            "How about quality of life guys?  May the candida demon never cross your \n",
            "sinus cavity or gut(if it does, you may feel differently about the issue).\n",
            "\n",
            "Marty B.\n",
            "\n"
          ],
          "name": "stdout"
        }
      ]
    },
    {
      "cell_type": "code",
      "metadata": {
        "id": "z-JSauX9wC6r",
        "colab_type": "code",
        "colab": {}
      },
      "source": [
        ""
      ],
      "execution_count": null,
      "outputs": []
    }
  ]
}