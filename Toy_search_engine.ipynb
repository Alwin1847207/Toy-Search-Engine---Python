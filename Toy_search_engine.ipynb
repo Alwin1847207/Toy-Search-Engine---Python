{
  "nbformat": 4,
  "nbformat_minor": 0,
  "metadata": {
    "colab": {
      "name": "Toy_search_engine.ipynb",
      "provenance": [],
      "collapsed_sections": [],
      "include_colab_link": true
    },
    "kernelspec": {
      "name": "python3",
      "display_name": "Python 3"
    }
  },
  "cells": [
    {
      "cell_type": "markdown",
      "metadata": {
        "id": "view-in-github",
        "colab_type": "text"
      },
      "source": [
        "<a href=\"https://colab.research.google.com/github/Alwin1847207/Toy-Search-Engine---Python/blob/master/Toy_search_engine.ipynb\" target=\"_parent\"><img src=\"https://colab.research.google.com/assets/colab-badge.svg\" alt=\"Open In Colab\"/></a>"
      ]
    },
    {
      "cell_type": "markdown",
      "metadata": {
        "id": "b7oDnLWg1AHE",
        "colab_type": "text"
      },
      "source": [
        "# Please create a **toy search engine using Python**. Use 20newsgroups dataset available at http://qwone.com/~jason/20Newsgroups. \n",
        "\n",
        "Required feature: For a given string, search results should return the top 3 most relevant documents. It should also highlight the part of the document where the search string occurs. Use your imagination to modify and add more advanced functionalities."
      ]
    },
    {
      "cell_type": "code",
      "metadata": {
        "id": "-lNM7JkWd1wA",
        "colab_type": "code",
        "colab": {
          "base_uri": "https://localhost:8080/",
          "height": 219
        },
        "outputId": "8a019fe4-3f2c-4670-9e76-51b2462ac897"
      },
      "source": [
        "# Download the Data Set\n",
        "!wget --no-check-certificate http://qwone.com/~jason/20Newsgroups/20news-18828.tar.gz -O /tmp/20news-18828.tar.gz"
      ],
      "execution_count": null,
      "outputs": [
        {
          "output_type": "stream",
          "text": [
            "--2020-08-15 14:06:26--  http://qwone.com/~jason/20Newsgroups/20news-18828.tar.gz\n",
            "Resolving qwone.com (qwone.com)... 108.20.201.166\n",
            "Connecting to qwone.com (qwone.com)|108.20.201.166|:80... connected.\n",
            "HTTP request sent, awaiting response... 200 OK\n",
            "Length: 14666916 (14M) [application/x-gzip]\n",
            "Saving to: ‘/tmp/20news-18828.tar.gz’\n",
            "\n",
            "/tmp/20news-18828.t 100%[===================>]  13.99M  6.51MB/s    in 2.1s    \n",
            "\n",
            "2020-08-15 14:06:28 (6.51 MB/s) - ‘/tmp/20news-18828.tar.gz’ saved [14666916/14666916]\n",
            "\n"
          ],
          "name": "stdout"
        }
      ]
    },
    {
      "cell_type": "code",
      "metadata": {
        "id": "Gwe6DvK7RB2T",
        "colab_type": "code",
        "colab": {}
      },
      "source": [
        "# Import Statemts\n",
        "import os\n",
        "import re\n",
        "import zipfile\n",
        "import tarfile"
      ],
      "execution_count": null,
      "outputs": []
    },
    {
      "cell_type": "code",
      "metadata": {
        "id": "CIO69fRa12EC",
        "colab_type": "code",
        "colab": {}
      },
      "source": [
        "# Unziping the files to a directory\n",
        "local_zip = '/tmp/20news-18828.tar.gz'\n",
        "my_tar = tarfile.open( '/tmp/20news-18828.tar.gz')\n",
        "my_tar.extractall('./tmp')\n",
        "my_tar.close()"
      ],
      "execution_count": null,
      "outputs": []
    },
    {
      "cell_type": "code",
      "metadata": {
        "id": "PlJy-ED418mO",
        "colab_type": "code",
        "colab": {}
      },
      "source": [
        "# Dictionary for string files inside a folder\n",
        "folders_files_dict = dict()\n",
        "#  Dictionary to store the file words count with respect to each file\n",
        "words_in_files = dict()"
      ],
      "execution_count": null,
      "outputs": []
    },
    {
      "cell_type": "code",
      "metadata": {
        "id": "D8UlsChybKys",
        "colab_type": "code",
        "colab": {}
      },
      "source": [
        "# processing folders and collection the file names and adds to a dictionary\n",
        "folders = os.listdir(\"tmp/20news-18828/\")\n",
        "\n",
        "for folder in folders:\n",
        "    files = os.listdir(\"tmp/20news-18828/\"+folder)\n",
        "    folders_files_dict[folder] = files\n",
        "\n",
        "# to list folders and files in folders\n",
        "# for x in folders_files_dict:\n",
        "#     print(x)\n",
        "#     print(folders_files_dict[x])"
      ],
      "execution_count": null,
      "outputs": []
    },
    {
      "cell_type": "code",
      "metadata": {
        "id": "RMYLNJg2REJO",
        "colab_type": "code",
        "colab": {}
      },
      "source": [
        "# extracting words from each file, calculating the count and adds to the dictionary\n",
        "for folder in folders:\n",
        "    files = os.listdir(\"tmp/20news-18828/\"+folder)\n",
        "    for file in files:\n",
        "        file_words = dict()\n",
        "        file_data = open(\"tmp/20news-18828/\"+folder+'/'+file,encoding=\"utf8\", errors='ignore').read()\n",
        "        file_date = file_data.strip()\n",
        "        file_data = file_data.lower()\n",
        "        file_data = re.findall(r'[a-z]+', file_data)\n",
        "        for word in file_data:\n",
        "            if word in file_words:\n",
        "                file_words[word] = file_words[word]+1\n",
        "            else:\n",
        "                file_words[word] = 1\n",
        "        words_in_files[file] = file_words\n",
        "        # print(file_words)\n",
        "\n",
        "# print(words_in_files)"
      ],
      "execution_count": null,
      "outputs": []
    },
    {
      "cell_type": "code",
      "metadata": {
        "id": "OtGWcCitbGLt",
        "colab_type": "code",
        "colab": {
          "base_uri": "https://localhost:8080/",
          "height": 54
        },
        "outputId": "969ef903-564e-45af-ff04-0f41d1a8f791"
      },
      "source": [
        "# To search words\n",
        "search_word = input(\"Enter the word to search : \")\n",
        "search_word = search_word.lower()\n",
        "search_word = search_word.strip()\n",
        "# search_word = \"from\"\n",
        "print(\"Word to Search : \" + search_word)"
      ],
      "execution_count": null,
      "outputs": [
        {
          "output_type": "stream",
          "text": [
            "Enter the word to search : robert\n",
            "Word to Search : robert\n"
          ],
          "name": "stdout"
        }
      ]
    },
    {
      "cell_type": "code",
      "metadata": {
        "id": "fYqkpBikRGgb",
        "colab_type": "code",
        "colab": {
          "base_uri": "https://localhost:8080/",
          "height": 72
        },
        "outputId": "15f76eef-3784-4a47-aee7-b5609b42d838"
      },
      "source": [
        "# Search engine\n",
        "top_results = ['-1','','','-1','','','-1','','']\n",
        "\n",
        "for file in words_in_files:\n",
        "    # checking the word in the ist of word in the files\n",
        "    if search_word in words_in_files[str(file)]:\n",
        "        # print(\"Search item : '\" + search_word + \"' found in file: '\" +str(file) + \"' And occurs : \", words_in_files[str(file)][search_word])\n",
        "\n",
        "        # printing the path of the file\n",
        "        path = \"\"\n",
        "        for folder in folders_files_dict:\n",
        "            if file in folders_files_dict[folder]:\n",
        "                path = \"tmp/20news-18828/\" + folder + '/' + str(file)\n",
        "\n",
        "        count = words_in_files[str(file)][search_word]\n",
        "\n",
        "        if int(top_results[0]) < count:\n",
        "            top_results[0] = str(count)\n",
        "            top_results[1] = str(file)\n",
        "            top_results[2] = str(path)\n",
        "        elif int(top_results[3]) < int(count):\n",
        "            top_results[3] = str(count)\n",
        "            top_results[4] = str(file)\n",
        "            top_results[5] = str(path)\n",
        "        elif int(top_results[6]) < int(count):\n",
        "            top_results[6] = str(count)\n",
        "            top_results[7] = str(file)\n",
        "            top_results[8] = str(path)\n",
        "        else:\n",
        "            pass\n",
        "\n",
        "print(\"Word to Search : \" + search_word)\n",
        "print(\"Count : FileName : Path\")\n",
        "print(top_results)"
      ],
      "execution_count": null,
      "outputs": [
        {
          "output_type": "stream",
          "text": [
            "Word to Search : robert\n",
            "Count : FileName : Path\n",
            "['8', '59548', 'tmp/20news-18828/sci.med/59548', '6', '59874', 'tmp/20news-18828/sci.space/59874', '5', '83482', 'tmp/20news-18828/talk.religion.misc/83482']\n"
          ],
          "name": "stdout"
        }
      ]
    },
    {
      "cell_type": "code",
      "metadata": {
        "id": "g8BEh_u8cDUY",
        "colab_type": "code",
        "colab": {}
      },
      "source": [
        ""
      ],
      "execution_count": null,
      "outputs": []
    }
  ]
}